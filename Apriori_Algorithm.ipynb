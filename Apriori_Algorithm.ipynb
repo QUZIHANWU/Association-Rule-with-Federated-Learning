{
 "cells": [
  {
   "cell_type": "code",
   "execution_count": 1,
   "metadata": {},
   "outputs": [
    {
     "name": "stdout",
     "output_type": "stream",
     "text": [
      "输入支持度(0->1)\n",
      "0.777\n",
      "{frozenset({3}): 0.8333333333333334, frozenset({2}): 0.8333333333333334}\n",
      "输入支持度(0->1)\n",
      "0.666\n",
      "{frozenset({1, 3}): 0.6666666666666666, frozenset({2, 3}): 0.6666666666666666, frozenset({2, 5}): 0.6666666666666666}\n",
      "输入支持度(0->1)\n",
      "0.555\n",
      "{frozenset({1, 3}): 0.6666666666666666, frozenset({2, 3}): 0.6666666666666666, frozenset({2, 5}): 0.6666666666666666}\n"
     ]
    }
   ],
   "source": [
    "#-*- coding: UTF-8 -*-\n",
    "\n",
    "# 加载数据\n",
    "def loadDataSet():\n",
    "    return [[1, 3, 4], [2, 3, 5], [1, 2, 3, 5], [2, 5],[3,1,5,2],[1,2,3]]\n",
    "\n",
    "# 将所有元素转换为frozenset型字典，存放到列表中\n",
    "def createC1(dataSet):\n",
    "    C1 = []\n",
    "    for transaction in dataSet:\n",
    "        for item in transaction:\n",
    "            if not [item] in C1:        #去重得到单元素项\n",
    "                C1.append([item])\n",
    "    C1.sort()                           #排序\n",
    "\n",
    "    return list(map(frozenset, C1))  # 使用frozenset是为了后面可以将这些值作为字典的键 frozenset一种不可变的集合，set可变集合\n",
    "\n",
    "\n",
    "# 过滤掉支持度不符合的集合 即剪枝\n",
    "def scanD(D, Ck, minSupport):\n",
    "    ssCnt = {}                      #建立字典存储各项及数目\n",
    "    for tid in D:\n",
    "        for can in Ck:\n",
    "            if can.issubset(tid):  # 判断can是否是tid的《子集》 （这里使用子集的方式来判断两者的关系）\n",
    "                ssCnt[can] = ssCnt.get(can,0)+1   #读取字典 存在can得到数值 不存在得到零 在取到的值加1 .get(要取的值，没有返回的值)\n",
    "    retList = []  # 记录支持度大于给定值的数据\n",
    "    supportData = {}  # 每个数据值的支持度\n",
    "    for key in ssCnt:\n",
    "        support = ssCnt[key] / len(D)     #计算支持度\n",
    "        if support >= minSupport:           #和给定支持度比较\n",
    "            retList.append(key);supportData[key] = support  #将符合支持度条件的数据存储\n",
    "    return retList, supportData  # 排除不符合支持度元素后的元素 每个元素支持度# 返回频繁项集列表retList 所有元素的支持度字典\n",
    "\n",
    "\n",
    "# 生成所有可以组合的集合\n",
    "# 频繁项集列表Lk\n",
    "# 连接后项集元素个数k  [frozenset({2, 3}), frozenset({3, 5})] -> [frozenset({2, 3, 5})]\n",
    "def aprioriGen(Lk, k):\n",
    "    retList = []\n",
    "    lenLk = len(Lk)\n",
    "    for i in range(lenLk):  # 两层循环比较Lk中的每个元素与其它元素\n",
    "        for j in range(i + 1, lenLk):\n",
    "            L1 = list(Lk[i])[:k - 2]  # 将集合转为list后 取0-k-2\n",
    "            L2 = list(Lk[j])[:k - 2]\n",
    "            L1.sort();\n",
    "            L2.sort()\n",
    "            if L1 == L2:# 该函数每次比较两个list的前k-2个元素，如果相同则求并集得到k个元素的集合\n",
    "                retList.append(Lk[i] | Lk[j])  # 求并集python求并集符号|\n",
    "    return retList  # 返回连接后的项集\n",
    "\n",
    "\n",
    "# 调用上述函数\n",
    "# 返回 所有满足大于阈值的组合 集合支持度列表\n",
    "def apriori(dataSet, minSupport):\n",
    "    D = list(map(set, dataSet))  # 转换列表记录为字典  [{1, 3, 4}, {2, 3, 5}, {1, 2, 3, 5}, {2, 5}]\n",
    "    C1 = createC1(dataSet)  # 将每个元素转会为frozenset字典    [frozenset({1}), frozenset({2}), frozenset({3}), frozenset({4}), frozenset({5})]\n",
    "    L1, supportData = scanD(D, C1, minSupport)  # 过滤数据\n",
    "    L = [L1]   #频繁项集的集合\n",
    "    k = 2\n",
    "    while (len(L[k-2]) > 0):  # 若仍有满足支持度的集合则继续做关联分析\n",
    "        Ck = aprioriGen(L[k-2], k)  # Ck候选频繁项集\n",
    "        Lk, supK = scanD(D, Ck, minSupport)  # Lk频繁项集 supk支持度\n",
    "        L.append(Lk)  # 更新L集合\n",
    "        supportData.update(supK)   # 更新字典（把新出现的集合:支持度加入到supportData中）\n",
    "        k=k+1  # 每次新组合的元素都只增加了一个，所以k也+1（k表示元素个数）\n",
    "    support = {}\n",
    "    for i in L[k - 3]:     #遍历符合支持度元素最多的项\n",
    "        support[i] = supportData.get(i)   #从字典中取出项及其支持度\n",
    "    return support   #返回项及其支持度\n",
    "\n",
    "if __name__ == '__main__':\n",
    "    while int(input('请输入序号：1 测试 0 退出\\n')):\n",
    "        print('输入支持度(0->1)')\n",
    "        support = float(input())\n",
    "        print(support)        #定义float型输入支持度\n",
    "        supp= apriori(loadDataSet(),support)\n",
    "        print(supp)                  #打印结果\n",
    "\n"
   ]
  },
  {
   "cell_type": "code",
   "execution_count": null,
   "metadata": {},
   "outputs": [],
   "source": []
  }
 ],
 "metadata": {
  "interpreter": {
   "hash": "aee8b7b246df8f9039afb4144a1f6fd8d2ca17a180786b69acc140d282b71a49"
  },
  "kernelspec": {
   "display_name": "Python 3.9.2 64-bit",
   "language": "python",
   "name": "python3"
  },
  "language_info": {
   "codemirror_mode": {
    "name": "ipython",
    "version": 3
   },
   "file_extension": ".py",
   "mimetype": "text/x-python",
   "name": "python",
   "nbconvert_exporter": "python",
   "pygments_lexer": "ipython3",
   "version": "3.9.2"
  },
  "orig_nbformat": 4
 },
 "nbformat": 4,
 "nbformat_minor": 2
}
